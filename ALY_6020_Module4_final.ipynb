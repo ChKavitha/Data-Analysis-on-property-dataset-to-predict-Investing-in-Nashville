{
 "cells": [
  {
   "cell_type": "code",
   "execution_count": 1,
   "metadata": {},
   "outputs": [],
   "source": [
    "import pandas as pd\n",
    "import numpy as np"
   ]
  },
  {
   "cell_type": "code",
   "execution_count": 2,
   "metadata": {},
   "outputs": [],
   "source": [
    "dataframe = pd.read_csv('Nashville_housing_data.csv',index_col=0)"
   ]
  },
  {
   "cell_type": "code",
   "execution_count": 3,
   "metadata": {},
   "outputs": [
    {
     "data": {
      "text/plain": [
       "Index(['Parcel ID', 'Land Use', 'Property Address', 'Suite/ Condo   #',\n",
       "       'Property City', 'Sale Date', 'Legal Reference', 'Sold As Vacant',\n",
       "       'Multiple Parcels Involved in Sale', 'City', 'State', 'Acreage',\n",
       "       'Tax District', 'Neighborhood', 'Land Value', 'Building Value',\n",
       "       'Finished Area', 'Foundation Type', 'Year Built', 'Exterior Wall',\n",
       "       'Grade', 'Bedrooms', 'Full Bath', 'Half Bath',\n",
       "       'Sale Price Compared To Value'],\n",
       "      dtype='object')"
      ]
     },
     "execution_count": 3,
     "metadata": {},
     "output_type": "execute_result"
    }
   ],
   "source": [
    "dataframe.columns"
   ]
  },
  {
   "cell_type": "markdown",
   "metadata": {},
   "source": [
    "# Part 1: Data Cleaning"
   ]
  },
  {
   "cell_type": "code",
   "execution_count": 4,
   "metadata": {},
   "outputs": [
    {
     "name": "stdout",
     "output_type": "stream",
     "text": [
      "<class 'pandas.core.frame.DataFrame'>\n",
      "Int64Index: 22651 entries, 1 to 56615\n",
      "Data columns (total 25 columns):\n",
      " #   Column                             Non-Null Count  Dtype  \n",
      "---  ------                             --------------  -----  \n",
      " 0   Parcel ID                          22651 non-null  object \n",
      " 1   Land Use                           22651 non-null  object \n",
      " 2   Property Address                   22649 non-null  object \n",
      " 3   Suite/ Condo   #                   0 non-null      float64\n",
      " 4   Property City                      22649 non-null  object \n",
      " 5   Sale Date                          22651 non-null  object \n",
      " 6   Legal Reference                    22651 non-null  object \n",
      " 7   Sold As Vacant                     22651 non-null  object \n",
      " 8   Multiple Parcels Involved in Sale  22651 non-null  object \n",
      " 9   City                               22651 non-null  object \n",
      " 10  State                              22651 non-null  object \n",
      " 11  Acreage                            22651 non-null  float64\n",
      " 12  Tax District                       22651 non-null  object \n",
      " 13  Neighborhood                       22651 non-null  int64  \n",
      " 14  Land Value                         22651 non-null  int64  \n",
      " 15  Building Value                     22651 non-null  int64  \n",
      " 16  Finished Area                      22650 non-null  float64\n",
      " 17  Foundation Type                    22650 non-null  object \n",
      " 18  Year Built                         22651 non-null  int64  \n",
      " 19  Exterior Wall                      22651 non-null  object \n",
      " 20  Grade                              22651 non-null  object \n",
      " 21  Bedrooms                           22648 non-null  float64\n",
      " 22  Full Bath                          22650 non-null  float64\n",
      " 23  Half Bath                          22543 non-null  float64\n",
      " 24  Sale Price Compared To Value       22651 non-null  object \n",
      "dtypes: float64(6), int64(4), object(15)\n",
      "memory usage: 4.5+ MB\n"
     ]
    }
   ],
   "source": [
    "dataframe.info()"
   ]
  },
  {
   "cell_type": "code",
   "execution_count": 5,
   "metadata": {},
   "outputs": [
    {
     "data": {
      "text/plain": [
       "count    22651.000000\n",
       "mean      1961.947684\n",
       "std         25.843908\n",
       "min       1832.000000\n",
       "25%       1947.000000\n",
       "50%       1959.000000\n",
       "75%       1977.000000\n",
       "max       2017.000000\n",
       "Name: Year Built, dtype: float64"
      ]
     },
     "execution_count": 5,
     "metadata": {},
     "output_type": "execute_result"
    }
   ],
   "source": [
    "dataframe['Year Built'].describe()"
   ]
  },
  {
   "cell_type": "code",
   "execution_count": 6,
   "metadata": {},
   "outputs": [],
   "source": [
    "dataframe['Suite/ Condo   #'].describe()\n",
    "# This column is mostly Nans lets just get rid of it\n",
    "dataframe=dataframe.drop(columns=['Suite/ Condo   #'])"
   ]
  },
  {
   "cell_type": "code",
   "execution_count": 7,
   "metadata": {},
   "outputs": [
    {
     "data": {
      "text/plain": [
       "Index(['Parcel ID', 'Land Use', 'Property Address', 'Property City',\n",
       "       'Sale Date', 'Legal Reference', 'Sold As Vacant',\n",
       "       'Multiple Parcels Involved in Sale', 'City', 'State', 'Acreage',\n",
       "       'Tax District', 'Neighborhood', 'Land Value', 'Building Value',\n",
       "       'Finished Area', 'Foundation Type', 'Year Built', 'Exterior Wall',\n",
       "       'Grade', 'Bedrooms', 'Full Bath', 'Half Bath',\n",
       "       'Sale Price Compared To Value'],\n",
       "      dtype='object')"
      ]
     },
     "execution_count": 7,
     "metadata": {},
     "output_type": "execute_result"
    }
   ],
   "source": [
    "dataframe.columns"
   ]
  },
  {
   "cell_type": "code",
   "execution_count": 8,
   "metadata": {},
   "outputs": [
    {
     "data": {
      "text/plain": [
       "<AxesSubplot:xlabel='Year Built', ylabel='Acreage'>"
      ]
     },
     "execution_count": 8,
     "metadata": {},
     "output_type": "execute_result"
    },
    {
     "data": {
      "image/png": "[encoded data removed]",
      "text/plain": [
       "<Figure size 432x288 with 1 Axes>"
      ]
     },
     "metadata": {
      "needs_background": "light"
     },
     "output_type": "display_data"
    },
    {
     "data": {
      "image/png": "[encoded data removed]",
      "text/plain": [
       "<Figure size 432x288 with 1 Axes>"
      ]
     },
     "metadata": {
      "needs_background": "light"
     },
     "output_type": "display_data"
    }
   ],
   "source": [
    "boxplot = dataframe.boxplot(column=['Acreage'])\n",
    "dataframe.plot.scatter(y='Acreage', x='Year Built')"
   ]
  },
  {
   "cell_type": "code",
   "execution_count": 9,
   "metadata": {},
   "outputs": [
    {
     "data": {
      "text/plain": [
       "<AxesSubplot:xlabel='Year Built', ylabel='Neighborhood'>"
      ]
     },
     "execution_count": 9,
     "metadata": {},
     "output_type": "execute_result"
    },
    {
     "data": {
      "image/png": "[encoded data removed]",
      "text/plain": [
       "<Figure size 432x288 with 1 Axes>"
      ]
     },
     "metadata": {
      "needs_background": "light"
     },
     "output_type": "display_data"
    },
    {
     "data": {
      "image/png": "[encoded data removed]",
      "text/plain": [
       "<Figure size 432x288 with 1 Axes>"
      ]
     },
     "metadata": {
      "needs_background": "light"
     },
     "output_type": "display_data"
    }
   ],
   "source": [
    "boxplot = dataframe.boxplot(column=['Neighborhood'])\n",
    "dataframe.plot.scatter(y='Neighborhood', x='Year Built')"
   ]
  },
  {
   "cell_type": "code",
   "execution_count": 10,
   "metadata": {},
   "outputs": [
    {
     "data": {
      "text/plain": [
       "<AxesSubplot:xlabel='Year Built', ylabel='Land Value'>"
      ]
     },
     "execution_count": 10,
     "metadata": {},
     "output_type": "execute_result"
    },
    {
     "data": {
      "image/png": "[encoded data removed]",
      "text/plain": [
       "<Figure size 432x288 with 1 Axes>"
      ]
     },
     "metadata": {
      "needs_background": "light"
     },
     "output_type": "display_data"
    },
    {
     "data": {
      "image/png": "[encoded data removed]",
      "text/plain": [
       "<Figure size 432x288 with 1 Axes>"
      ]
     },
     "metadata": {
      "needs_background": "light"
     },
     "output_type": "display_data"
    }
   ],
   "source": [
    "boxplot = dataframe.boxplot(column=['Land Value'])\n",
    "dataframe.plot.scatter(y='Land Value', x='Year Built')"
   ]
  },
  {
   "cell_type": "code",
   "execution_count": 11,
   "metadata": {},
   "outputs": [
    {
     "data": {
      "text/plain": [
       "<AxesSubplot:xlabel='Year Built', ylabel='Building Value'>"
      ]
     },
     "execution_count": 11,
     "metadata": {},
     "output_type": "execute_result"
    },
    {
     "data": {
      "image/png": "[encoded data removed]",
      "text/plain": [
       "<Figure size 432x288 with 1 Axes>"
      ]
     },
     "metadata": {
      "needs_background": "light"
     },
     "output_type": "display_data"
    },
    {
     "data": {
      "image/png": "[encoded data removed]",
      "text/plain": [
       "<Figure size 432x288 with 1 Axes>"
      ]
     },
     "metadata": {
      "needs_background": "light"
     },
     "output_type": "display_data"
    }
   ],
   "source": [
    "boxplot = dataframe.boxplot(column=['Building Value'])\n",
    "dataframe.plot.scatter(y='Building Value', x='Year Built')"
   ]
  },
  {
   "cell_type": "code",
   "execution_count": 12,
   "metadata": {},
   "outputs": [
    {
     "data": {
      "text/plain": [
       "<AxesSubplot:xlabel='Year Built', ylabel='Finished Area'>"
      ]
     },
     "execution_count": 12,
     "metadata": {},
     "output_type": "execute_result"
    },
    {
     "data": {
      "image/png": "[encoded data removed]",
      "text/plain": [
       "<Figure size 432x288 with 1 Axes>"
      ]
     },
     "metadata": {
      "needs_background": "light"
     },
     "output_type": "display_data"
    },
    {
     "data": {
      "image/png": "[encoded data removed]",
      "text/plain": [
       "<Figure size 432x288 with 1 Axes>"
      ]
     },
     "metadata": {
      "needs_background": "light"
     },
     "output_type": "display_data"
    }
   ],
   "source": [
    "boxplot = dataframe.boxplot(column=['Finished Area'])\n",
    "dataframe.plot.scatter(y='Finished Area', x='Year Built')"
   ]
  },
  {
   "cell_type": "code",
   "execution_count": 13,
   "metadata": {},
   "outputs": [
    {
     "data": {
      "text/plain": [
       "<AxesSubplot:xlabel='Year Built', ylabel='Bedrooms'>"
      ]
     },
     "execution_count": 13,
     "metadata": {},
     "output_type": "execute_result"
    },
    {
     "data": {
      "image/png": "[encoded data removed]",
      "text/plain": [
       "<Figure size 432x288 with 1 Axes>"
      ]
     },
     "metadata": {
      "needs_background": "light"
     },
     "output_type": "display_data"
    },
    {
     "data": {
      "image/png": "[encoded data removed]",
      "text/plain": [
       "<Figure size 432x288 with 1 Axes>"
      ]
     },
     "metadata": {
      "needs_background": "light"
     },
     "output_type": "display_data"
    }
   ],
   "source": [
    "boxplot = dataframe.boxplot(column=['Bedrooms'])\n",
    "dataframe.plot.scatter(y='Bedrooms', x='Year Built')"
   ]
  },
  {
   "cell_type": "code",
   "execution_count": 14,
   "metadata": {},
   "outputs": [
    {
     "data": {
      "text/plain": [
       "<AxesSubplot:xlabel='Year Built', ylabel='Full Bath'>"
      ]
     },
     "execution_count": 14,
     "metadata": {},
     "output_type": "execute_result"
    },
    {
     "data": {
      "image/png": "[encoded data removed]",
      "text/plain": [
       "<Figure size 432x288 with 1 Axes>"
      ]
     },
     "metadata": {
      "needs_background": "light"
     },
     "output_type": "display_data"
    },
    {
     "data": {
      "image/png": "[encoded data removed]",
      "text/plain": [
       "<Figure size 432x288 with 1 Axes>"
      ]
     },
     "metadata": {
      "needs_background": "light"
     },
     "output_type": "display_data"
    }
   ],
   "source": [
    "boxplot = dataframe.boxplot(column=['Full Bath'])\n",
    "dataframe.plot.scatter(y='Full Bath', x='Year Built')"
   ]
  },
  {
   "cell_type": "code",
   "execution_count": 15,
   "metadata": {},
   "outputs": [
    {
     "data": {
      "text/plain": [
       "<AxesSubplot:xlabel='Year Built', ylabel='Half Bath'>"
      ]
     },
     "execution_count": 15,
     "metadata": {},
     "output_type": "execute_result"
    },
    {
     "data": {
      "image/png": "[encoded data removed]",
      "text/plain": [
       "<Figure size 432x288 with 1 Axes>"
      ]
     },
     "metadata": {
      "needs_background": "light"
     },
     "output_type": "display_data"
    },
    {
     "data": {
      "image/png": "[encoded data removed]",
      "text/plain": [
       "<Figure size 432x288 with 1 Axes>"
      ]
     },
     "metadata": {
      "needs_background": "light"
     },
     "output_type": "display_data"
    }
   ],
   "source": [
    "boxplot = dataframe.boxplot(column=['Half Bath'])\n",
    "dataframe.plot.scatter(y='Half Bath', x='Year Built')"
   ]
  },
  {
   "cell_type": "code",
   "execution_count": null,
   "metadata": {},
   "outputs": [],
   "source": []
  },
  {
   "cell_type": "code",
   "execution_count": 16,
   "metadata": {},
   "outputs": [
    {
     "name": "stdout",
     "output_type": "stream",
     "text": [
      "<class 'pandas.core.frame.DataFrame'>\n",
      "Int64Index: 22651 entries, 1 to 56615\n",
      "Data columns (total 24 columns):\n",
      " #   Column                             Non-Null Count  Dtype  \n",
      "---  ------                             --------------  -----  \n",
      " 0   Parcel ID                          22651 non-null  object \n",
      " 1   Land Use                           22651 non-null  object \n",
      " 2   Property Address                   22649 non-null  object \n",
      " 3   Property City                      22649 non-null  object \n",
      " 4   Sale Date                          22651 non-null  object \n",
      " 5   Legal Reference                    22651 non-null  object \n",
      " 6   Sold As Vacant                     22651 non-null  object \n",
      " 7   Multiple Parcels Involved in Sale  22651 non-null  object \n",
      " 8   City                               22651 non-null  object \n",
      " 9   State                              22651 non-null  object \n",
      " 10  Acreage                            22651 non-null  float64\n",
      " 11  Tax District                       22651 non-null  object \n",
      " 12  Neighborhood                       22651 non-null  int64  \n",
      " 13  Land Value                         22651 non-null  int64  \n",
      " 14  Building Value                     22651 non-null  int64  \n",
      " 15  Finished Area                      22650 non-null  float64\n",
      " 16  Foundation Type                    22650 non-null  object \n",
      " 17  Year Built                         22651 non-null  int64  \n",
      " 18  Exterior Wall                      22651 non-null  object \n",
      " 19  Grade                              22651 non-null  object \n",
      " 20  Bedrooms                           22648 non-null  float64\n",
      " 21  Full Bath                          22650 non-null  float64\n",
      " 22  Half Bath                          22543 non-null  float64\n",
      " 23  Sale Price Compared To Value       22651 non-null  object \n",
      "dtypes: float64(5), int64(4), object(15)\n",
      "memory usage: 4.3+ MB\n"
     ]
    }
   ],
   "source": [
    "dataframe.info()"
   ]
  },
  {
   "cell_type": "code",
   "execution_count": 17,
   "metadata": {},
   "outputs": [
    {
     "data": {
      "text/plain": [
       "105 01 0 256.00    4\n",
       "091 04 0 046.00    4\n",
       "061 10 0 170.00    4\n",
       "044 15 0 005.00    4\n",
       "072 07 0 042.00    4\n",
       "                  ..\n",
       "120 06 0 008.00    1\n",
       "075 03 0 038.00    1\n",
       "162 10 0 165.00    1\n",
       "134 13 0 090.00    1\n",
       "060 03 0 070.00    1\n",
       "Name: Parcel ID, Length: 19720, dtype: int64"
      ]
     },
     "execution_count": 17,
     "metadata": {},
     "output_type": "execute_result"
    }
   ],
   "source": [
    "dataframe['Parcel ID'].value_counts()"
   ]
  },
  {
   "cell_type": "code",
   "execution_count": 18,
   "metadata": {},
   "outputs": [
    {
     "data": {
      "text/plain": [
       "SINGLE FAMILY             21390\n",
       "DUPLEX                     1190\n",
       "RESIDENTIAL COMBO/MISC       37\n",
       "QUADPLEX                     34\n",
       "Name: Land Use, dtype: int64"
      ]
     },
     "execution_count": 18,
     "metadata": {},
     "output_type": "execute_result"
    }
   ],
   "source": [
    "dataframe['Land Use'].value_counts()"
   ]
  },
  {
   "cell_type": "code",
   "execution_count": 19,
   "metadata": {},
   "outputs": [
    {
     "data": {
      "text/plain": [
       "2507  EASTLAND AVE      4\n",
       "2801  NOONAN DR         4\n",
       "1910  LINDEN AVE        4\n",
       "1038  40TH AVE N        4\n",
       "2208 24TH  AVE N        4\n",
       "                       ..\n",
       "4508  MILLRACE LN       1\n",
       "705  ANDERSON LN        1\n",
       "2166 SANBORN  DR        1\n",
       "1409 LILLIAN  ST        1\n",
       "904  HARPETH BEND DR    1\n",
       "Name: Property Address, Length: 20448, dtype: int64"
      ]
     },
     "execution_count": 19,
     "metadata": {},
     "output_type": "execute_result"
    }
   ],
   "source": [
    "dataframe['Property Address'].value_counts()"
   ]
  },
  {
   "cell_type": "code",
   "execution_count": 20,
   "metadata": {},
   "outputs": [
    {
     "data": {
      "text/plain": [
       "4/29/2016     111\n",
       "6/30/2016     105\n",
       "6/28/2013      99\n",
       "7/31/2015      88\n",
       "3/31/2016      87\n",
       "             ... \n",
       "10/23/2016      1\n",
       "5/31/2015       1\n",
       "6/9/2013        1\n",
       "12/24/2015      1\n",
       "3/9/2014        1\n",
       "Name: Sale Date, Length: 1044, dtype: int64"
      ]
     },
     "execution_count": 20,
     "metadata": {},
     "output_type": "execute_result"
    }
   ],
   "source": [
    "dataframe['Sale Date'].value_counts()"
   ]
  },
  {
   "cell_type": "code",
   "execution_count": 21,
   "metadata": {},
   "outputs": [
    {
     "data": {
      "text/plain": [
       "20140403-0027868    7\n",
       "20150916-0093955    7\n",
       "20150805-0077719    6\n",
       "20151002-0100496    5\n",
       "20160204-0010954    5\n",
       "                   ..\n",
       "20160201-0009193    1\n",
       "20131008-0105649    1\n",
       "20160126-0007194    1\n",
       "20150512-0043348    1\n",
       "20160129-0008638    1\n",
       "Name: Legal Reference, Length: 22452, dtype: int64"
      ]
     },
     "execution_count": 21,
     "metadata": {},
     "output_type": "execute_result"
    }
   ],
   "source": [
    "dataframe['Legal Reference'].value_counts()"
   ]
  },
  {
   "cell_type": "code",
   "execution_count": 22,
   "metadata": {},
   "outputs": [
    {
     "data": {
      "text/plain": [
       "No     22517\n",
       "Yes      134\n",
       "Name: Sold As Vacant, dtype: int64"
      ]
     },
     "execution_count": 22,
     "metadata": {},
     "output_type": "execute_result"
    }
   ],
   "source": [
    "\n",
    "dataframe['Sold As Vacant'].value_counts()"
   ]
  },
  {
   "cell_type": "code",
   "execution_count": 23,
   "metadata": {},
   "outputs": [
    {
     "data": {
      "text/plain": [
       "No     22183\n",
       "Yes      468\n",
       "Name: Multiple Parcels Involved in Sale, dtype: int64"
      ]
     },
     "execution_count": 23,
     "metadata": {},
     "output_type": "execute_result"
    }
   ],
   "source": [
    "\n",
    "dataframe['Multiple Parcels Involved in Sale'].value_counts()\n"
   ]
  },
  {
   "cell_type": "code",
   "execution_count": 24,
   "metadata": {},
   "outputs": [
    {
     "data": {
      "text/plain": [
       "NASHVILLE         18013\n",
       "MADISON            1146\n",
       "ANTIOCH            1133\n",
       "HERMITAGE           913\n",
       "OLD HICKORY         824\n",
       "GOODLETTSVILLE      435\n",
       "BRENTWOOD           157\n",
       "WHITES CREEK         13\n",
       "JOELTON              11\n",
       "MOUNT JULIET          6\n",
       "Name: City, dtype: int64"
      ]
     },
     "execution_count": 24,
     "metadata": {},
     "output_type": "execute_result"
    }
   ],
   "source": [
    "dataframe['City'].value_counts()\n"
   ]
  },
  {
   "cell_type": "code",
   "execution_count": 25,
   "metadata": {},
   "outputs": [
    {
     "data": {
      "text/plain": [
       "NASHVILLE         18010\n",
       "MADISON            1146\n",
       "ANTIOCH            1133\n",
       "HERMITAGE           913\n",
       "OLD HICKORY         824\n",
       "GOODLETTSVILLE      435\n",
       "BRENTWOOD           158\n",
       "WHITES CREEK         13\n",
       "JOELTON              11\n",
       "MOUNT JULIET          6\n",
       "Name: Property City, dtype: int64"
      ]
     },
     "execution_count": 25,
     "metadata": {},
     "output_type": "execute_result"
    }
   ],
   "source": [
    "dataframe['Property City'].value_counts()\n"
   ]
  },
  {
   "cell_type": "code",
   "execution_count": 26,
   "metadata": {},
   "outputs": [
    {
     "data": {
      "text/plain": [
       "TN    22651\n",
       "Name: State, dtype: int64"
      ]
     },
     "execution_count": 26,
     "metadata": {},
     "output_type": "execute_result"
    }
   ],
   "source": [
    "dataframe['State'].value_counts()\n"
   ]
  },
  {
   "cell_type": "code",
   "execution_count": 27,
   "metadata": {},
   "outputs": [
    {
     "data": {
      "text/plain": [
       "URBAN SERVICES DISTRICT      17497\n",
       "GENERAL SERVICES DISTRICT     3881\n",
       "CITY OF OAK HILL               349\n",
       "CITY OF FOREST HILLS           345\n",
       "CITY OF GOODLETTSVILLE         344\n",
       "CITY OF BELLE MEADE            214\n",
       "CITY OF BERRY HILL              21\n",
       "Name: Tax District, dtype: int64"
      ]
     },
     "execution_count": 27,
     "metadata": {},
     "output_type": "execute_result"
    }
   ],
   "source": [
    "dataframe['Tax District'].value_counts()\n"
   ]
  },
  {
   "cell_type": "code",
   "execution_count": 28,
   "metadata": {},
   "outputs": [
    {
     "data": {
      "text/plain": [
       "CRAWL        14210\n",
       "FULL BSMT     3823\n",
       "PT BSMT       3146\n",
       "SLAB          1431\n",
       "PIERS           36\n",
       "TYPICAL          4\n",
       "Name: Foundation Type, dtype: int64"
      ]
     },
     "execution_count": 28,
     "metadata": {},
     "output_type": "execute_result"
    }
   ],
   "source": [
    "dataframe['Foundation Type'].value_counts()\n"
   ]
  },
  {
   "cell_type": "code",
   "execution_count": 29,
   "metadata": {},
   "outputs": [
    {
     "data": {
      "text/plain": [
       "BRICK          11547\n",
       "FRAME           8171\n",
       "BRICK/FRAME     2222\n",
       "STONE            329\n",
       "STUCCO           156\n",
       "FRAME/STONE      104\n",
       "CONC BLK          99\n",
       "LOG               15\n",
       "METAL              8\n",
       "Name: Exterior Wall, dtype: int64"
      ]
     },
     "execution_count": 29,
     "metadata": {},
     "output_type": "execute_result"
    }
   ],
   "source": [
    "dataframe['Exterior Wall'].value_counts()\n"
   ]
  },
  {
   "cell_type": "code",
   "execution_count": 30,
   "metadata": {},
   "outputs": [
    {
     "data": {
      "text/plain": [
       "Over     17047\n",
       "Under     5604\n",
       "Name: Sale Price Compared To Value, dtype: int64"
      ]
     },
     "execution_count": 30,
     "metadata": {},
     "output_type": "execute_result"
    }
   ],
   "source": [
    "dataframe['Sale Price Compared To Value'].value_counts()"
   ]
  },
  {
   "cell_type": "code",
   "execution_count": 31,
   "metadata": {},
   "outputs": [],
   "source": [
    "# Checking if any columns have nans \n",
    "cols_with_nan = dataframe.columns[dataframe.isna().any()].tolist()"
   ]
  },
  {
   "cell_type": "code",
   "execution_count": 32,
   "metadata": {},
   "outputs": [
    {
     "data": {
      "text/plain": [
       "['Property Address',\n",
       " 'Property City',\n",
       " 'Finished Area',\n",
       " 'Foundation Type',\n",
       " 'Bedrooms',\n",
       " 'Full Bath',\n",
       " 'Half Bath']"
      ]
     },
     "execution_count": 32,
     "metadata": {},
     "output_type": "execute_result"
    }
   ],
   "source": [
    "cols_with_nan"
   ]
  },
  {
   "cell_type": "code",
   "execution_count": 33,
   "metadata": {},
   "outputs": [
    {
     "name": "stdout",
     "output_type": "stream",
     "text": [
      "2\n",
      "2\n",
      "1\n",
      "1\n",
      "3\n",
      "1\n",
      "108\n"
     ]
    }
   ],
   "source": [
    "for each in cols_with_nan:\n",
    "    print(dataframe[each].isnull().sum())"
   ]
  },
  {
   "cell_type": "code",
   "execution_count": 34,
   "metadata": {},
   "outputs": [],
   "source": [
    "dataframe = dataframe.dropna()"
   ]
  },
  {
   "cell_type": "code",
   "execution_count": 35,
   "metadata": {},
   "outputs": [
    {
     "name": "stdout",
     "output_type": "stream",
     "text": [
      "0\n",
      "0\n",
      "0\n",
      "0\n",
      "0\n",
      "0\n",
      "0\n"
     ]
    }
   ],
   "source": [
    "for each in cols_with_nan:\n",
    "    print(dataframe[each].isnull().sum())"
   ]
  },
  {
   "cell_type": "code",
   "execution_count": 36,
   "metadata": {},
   "outputs": [],
   "source": [
    "# State has no contribution in prediction\n",
    "dataframe = dataframe.drop(columns='State')\n",
    "\n",
    "# Property City has same value as city\n",
    "dataframe = dataframe.drop(columns='Property City')\n",
    "\n",
    "all_categorical_variables = []\n",
    "for each in dataframe.columns:\n",
    "    if 'object' in str(dataframe[each].dtype):\n",
    "        all_categorical_variables.append(each)"
   ]
  },
  {
   "cell_type": "markdown",
   "metadata": {},
   "source": [
    "## Label encoding Categorical Variables"
   ]
  },
  {
   "cell_type": "code",
   "execution_count": 37,
   "metadata": {},
   "outputs": [],
   "source": [
    "from sklearn.preprocessing import LabelEncoder\n",
    "labelencoder = LabelEncoder()\n",
    "dataframe_enc = dataframe.copy()\n",
    "for each in all_categorical_variables:\n",
    "    dataframe_enc[each] = labelencoder.fit_transform(dataframe_enc[each])"
   ]
  },
  {
   "cell_type": "markdown",
   "metadata": {},
   "source": [
    "# Part 2 : Logistic Regression"
   ]
  },
  {
   "cell_type": "markdown",
   "metadata": {},
   "source": [
    "## Training the Model with Automatic Feature Selection"
   ]
  },
  {
   "cell_type": "code",
   "execution_count": 38,
   "metadata": {},
   "outputs": [],
   "source": [
    "y_logr=dataframe_enc['Sale Price Compared To Value']\n",
    "x_logr=dataframe_enc.drop(['Sale Price Compared To Value'],axis=1)"
   ]
  },
  {
   "cell_type": "code",
   "execution_count": 39,
   "metadata": {},
   "outputs": [
    {
     "name": "stderr",
     "output_type": "stream",
     "text": [
      "/home/ec2-user/anaconda3/envs/amazonei_mxnet_p36/lib/python3.6/site-packages/sklearn/utils/validation.py:72: FutureWarning: Pass n_features_to_select=10 as keyword args. From version 1.0 (renaming of 0.25) passing these as positional arguments will result in an error\n",
      "  \"will result in an error\", FutureWarning)\n"
     ]
    },
    {
     "name": "stdout",
     "output_type": "stream",
     "text": [
      "[ True False  True  True  True False False  True False False  True False\n",
      "  True  True  True  True False False False False False]\n",
      "[ 1 12  1  1  1  7  9  1  5  3  1  2  1  1  1  1  6  4 10  8 11]\n"
     ]
    }
   ],
   "source": [
    "from sklearn.feature_selection import RFE\n",
    "from sklearn.linear_model import LogisticRegression\n",
    "logreg = LogisticRegression(max_iter=10000)\n",
    "rfe = RFE(logreg,10)\n",
    "rfe = rfe.fit(x_logr, y_logr.values.ravel())\n",
    "\n",
    "print(rfe.support_)\n",
    "print(rfe.ranking_)"
   ]
  },
  {
   "cell_type": "code",
   "execution_count": 40,
   "metadata": {},
   "outputs": [],
   "source": [
    "to_select_column = rfe.support_\n",
    "all_columns = list(dataframe_enc.columns)\n",
    "all_columns.remove('Sale Price Compared To Value')\n",
    "selected_features = []\n",
    "for i in range(0,len(all_columns)):\n",
    "    if(to_select_column[i] == True):\n",
    "        selected_features.append(all_columns[i])"
   ]
  },
  {
   "cell_type": "code",
   "execution_count": 41,
   "metadata": {},
   "outputs": [
    {
     "data": {
      "text/plain": [
       "['Parcel ID',\n",
       " 'Property Address',\n",
       " 'Sale Date',\n",
       " 'Legal Reference',\n",
       " 'City',\n",
       " 'Neighborhood',\n",
       " 'Building Value',\n",
       " 'Finished Area',\n",
       " 'Foundation Type',\n",
       " 'Year Built']"
      ]
     },
     "execution_count": 41,
     "metadata": {},
     "output_type": "execute_result"
    }
   ],
   "source": [
    "logistic_regression_selected_features = selected_features\n",
    "logistic_regression_selected_features"
   ]
  },
  {
   "cell_type": "markdown",
   "metadata": {},
   "source": [
    "### Only considering selected features"
   ]
  },
  {
   "cell_type": "code",
   "execution_count": 42,
   "metadata": {},
   "outputs": [],
   "source": [
    "dataframe_log_reg = dataframe_enc[selected_features]\n",
    "X=dataframe_log_reg.values\n",
    "y = y_logr"
   ]
  },
  {
   "cell_type": "code",
   "execution_count": 43,
   "metadata": {},
   "outputs": [],
   "source": [
    "# split X and y into training and testing sets\n",
    "from sklearn.model_selection import train_test_split\n",
    "X_train,X_test,y_train,y_test=train_test_split(X,y,test_size=0.2,random_state=0)"
   ]
  },
  {
   "cell_type": "code",
   "execution_count": 44,
   "metadata": {},
   "outputs": [],
   "source": [
    "logreg = LogisticRegression()"
   ]
  },
  {
   "cell_type": "code",
   "execution_count": 45,
   "metadata": {},
   "outputs": [],
   "source": [
    "import time\n",
    "start_time = time.time()\n",
    "\n",
    "# fit the model with data\n",
    "logreg.fit(X_train,y_train)\n",
    "y_pred=logreg.predict(X_test)"
   ]
  },
  {
   "cell_type": "code",
   "execution_count": 46,
   "metadata": {},
   "outputs": [
    {
     "name": "stdout",
     "output_type": "stream",
     "text": [
      "Execution Time: 0.2550201416015625 seconds ---\n",
      "Accuracy: 0.7624223602484472\n",
      "Precision: 0.5445205479452054\n",
      "Recall: 0.14494074749316319\n"
     ]
    }
   ],
   "source": [
    "print(\"Execution Time: %s seconds ---\" % (time.time() - start_time))\n",
    "\n",
    "# import the metrics class\n",
    "from sklearn import metrics\n",
    "print(\"Accuracy:\",metrics.accuracy_score(y_test, y_pred))\n",
    "print(\"Precision:\",metrics.precision_score(y_test, y_pred))\n",
    "print(\"Recall:\",metrics.recall_score(y_test, y_pred))"
   ]
  },
  {
   "cell_type": "markdown",
   "metadata": {},
   "source": [
    "# Part 3 : Decision Tree"
   ]
  },
  {
   "cell_type": "markdown",
   "metadata": {},
   "source": [
    "## Training a Decision Tree model and performing Automatic feature selection"
   ]
  },
  {
   "cell_type": "code",
   "execution_count": 47,
   "metadata": {},
   "outputs": [
    {
     "name": "stderr",
     "output_type": "stream",
     "text": [
      "/home/ec2-user/anaconda3/envs/amazonei_mxnet_p36/lib/python3.6/site-packages/sklearn/utils/validation.py:72: FutureWarning: Pass n_features_to_select=10 as keyword args. From version 1.0 (renaming of 0.25) passing these as positional arguments will result in an error\n",
      "  \"will result in an error\", FutureWarning)\n"
     ]
    },
    {
     "name": "stdout",
     "output_type": "stream",
     "text": [
      "[ True False  True  True  True False False False  True False  True  True\n",
      "  True  True False  True False False False False False]\n",
      "[ 1  9  1  1  1 11 10  8  1 12  1  1  1  1  4  1  3  6  5  2  7]\n"
     ]
    }
   ],
   "source": [
    "from sklearn.tree import DecisionTreeClassifier # Import Decision Tree Classifier\n",
    "# Create Decision Tree classifer object\n",
    "clf = DecisionTreeClassifier()\n",
    "\n",
    "y_logr=dataframe_enc['Sale Price Compared To Value']\n",
    "x_logr=dataframe_enc.drop(['Sale Price Compared To Value'],axis=1) \n",
    "\n",
    "rfe = RFE(clf,10)\n",
    "rfe = rfe.fit(x_logr, y_logr.values.ravel())\n",
    "print(rfe.support_)\n",
    "print(rfe.ranking_)"
   ]
  },
  {
   "cell_type": "code",
   "execution_count": 48,
   "metadata": {},
   "outputs": [],
   "source": [
    "to_select_column = rfe.support_\n",
    "all_columns = list(dataframe_enc.columns)\n",
    "all_columns.remove('Sale Price Compared To Value')\n",
    "selected_features = []\n",
    "for i in range(0,len(all_columns)):\n",
    "    if(to_select_column[i] == True):\n",
    "        selected_features.append(all_columns[i])"
   ]
  },
  {
   "cell_type": "code",
   "execution_count": 49,
   "metadata": {},
   "outputs": [
    {
     "data": {
      "text/plain": [
       "['Parcel ID',\n",
       " 'Property Address',\n",
       " 'Sale Date',\n",
       " 'Legal Reference',\n",
       " 'Acreage',\n",
       " 'Neighborhood',\n",
       " 'Land Value',\n",
       " 'Building Value',\n",
       " 'Finished Area',\n",
       " 'Year Built']"
      ]
     },
     "execution_count": 49,
     "metadata": {},
     "output_type": "execute_result"
    }
   ],
   "source": [
    "decision_tree_selected_features = selected_features\n",
    "decision_tree_selected_features"
   ]
  },
  {
   "cell_type": "markdown",
   "metadata": {},
   "source": [
    "### Only considering selected features"
   ]
  },
  {
   "cell_type": "code",
   "execution_count": 50,
   "metadata": {},
   "outputs": [],
   "source": [
    "dataframe_des_tree = dataframe_enc[selected_features]\n",
    "X=dataframe_des_tree.values\n",
    "y = y_logr\n",
    "\n",
    "# split X and y into training and testing sets\n",
    "from sklearn.model_selection import train_test_split\n",
    "X_train,X_test,y_train,y_test=train_test_split(X,y,test_size=0.2,random_state=0)"
   ]
  },
  {
   "cell_type": "code",
   "execution_count": 51,
   "metadata": {},
   "outputs": [],
   "source": [
    "import time\n",
    "start_time = time.time()\n",
    "\n",
    "# Create Decision Tree classifer object\n",
    "clf = DecisionTreeClassifier()\n",
    "\n",
    "# Train Decision Tree Classifer\n",
    "clf = clf.fit(X_train,y_train)\n",
    "\n",
    "#Predict the response for test dataset\n",
    "y_pred = clf.predict(X_test)"
   ]
  },
  {
   "cell_type": "code",
   "execution_count": 52,
   "metadata": {},
   "outputs": [
    {
     "name": "stdout",
     "output_type": "stream",
     "text": [
      "Execution Time: 0.2386305332183838 seconds ---\n",
      "Accuracy: 0.7062999112688554\n",
      "Precision: 0.4017316017316017\n",
      "Recall: 0.422971741112124\n"
     ]
    }
   ],
   "source": [
    "print(\"Execution Time: %s seconds ---\" % (time.time() - start_time))\n",
    "\n",
    "# import the metrics class\n",
    "from sklearn import metrics\n",
    "print(\"Accuracy:\",metrics.accuracy_score(y_test, y_pred))\n",
    "print(\"Precision:\",metrics.precision_score(y_test, y_pred))\n",
    "print(\"Recall:\",metrics.recall_score(y_test, y_pred))"
   ]
  },
  {
   "cell_type": "markdown",
   "metadata": {},
   "source": [
    "# Part 4 : Random Forest"
   ]
  },
  {
   "cell_type": "markdown",
   "metadata": {},
   "source": [
    "## Training a Random Forest model and performing Automatic feature selection"
   ]
  },
  {
   "cell_type": "code",
   "execution_count": 53,
   "metadata": {},
   "outputs": [
    {
     "name": "stderr",
     "output_type": "stream",
     "text": [
      "/home/ec2-user/anaconda3/envs/amazonei_mxnet_p36/lib/python3.6/site-packages/sklearn/utils/validation.py:72: FutureWarning: Pass n_features_to_select=10 as keyword args. From version 1.0 (renaming of 0.25) passing these as positional arguments will result in an error\n",
      "  \"will result in an error\", FutureWarning)\n"
     ]
    },
    {
     "name": "stdout",
     "output_type": "stream",
     "text": [
      "[ True False  True  True  True False False False  True False  True  True\n",
      "  True  True False  True False False False False False]\n",
      "[ 1 11  1  1  1  8 12  9  1 10  1  1  1  1  3  1  5  7  2  4  6]\n"
     ]
    }
   ],
   "source": [
    "#Import Random Forest Model\n",
    "from sklearn.ensemble import RandomForestClassifier\n",
    "\n",
    "#Create a Gaussian Classifier\n",
    "clf=RandomForestClassifier(n_estimators=100)\n",
    "\n",
    "y_logr=dataframe_enc['Sale Price Compared To Value']\n",
    "x_logr=dataframe_enc.drop(['Sale Price Compared To Value'],axis=1) \n",
    "\n",
    "rfe = RFE(clf,10)\n",
    "rfe = rfe.fit(x_logr, y_logr.values.ravel())\n",
    "print(rfe.support_)\n",
    "print(rfe.ranking_)"
   ]
  },
  {
   "cell_type": "code",
   "execution_count": 54,
   "metadata": {},
   "outputs": [],
   "source": [
    "to_select_column = rfe.support_\n",
    "all_columns = list(dataframe_enc.columns)\n",
    "all_columns.remove('Sale Price Compared To Value')\n",
    "selected_features = []\n",
    "for i in range(0,len(all_columns)):\n",
    "    if(to_select_column[i] == True):\n",
    "        selected_features.append(all_columns[i])"
   ]
  },
  {
   "cell_type": "code",
   "execution_count": 55,
   "metadata": {},
   "outputs": [
    {
     "data": {
      "text/plain": [
       "['Parcel ID',\n",
       " 'Property Address',\n",
       " 'Sale Date',\n",
       " 'Legal Reference',\n",
       " 'Acreage',\n",
       " 'Neighborhood',\n",
       " 'Land Value',\n",
       " 'Building Value',\n",
       " 'Finished Area',\n",
       " 'Year Built']"
      ]
     },
     "execution_count": 55,
     "metadata": {},
     "output_type": "execute_result"
    }
   ],
   "source": [
    "random_forest_selected_features = selected_features\n",
    "random_forest_selected_features"
   ]
  },
  {
   "cell_type": "markdown",
   "metadata": {},
   "source": [
    "## Considering only selected features"
   ]
  },
  {
   "cell_type": "code",
   "execution_count": 56,
   "metadata": {},
   "outputs": [],
   "source": [
    "dataframe_random_forest = dataframe_enc[selected_features]\n",
    "X=dataframe_random_forest.values\n",
    "y = y_logr\n",
    "\n",
    "# split X and y into training and testing sets\n",
    "from sklearn.model_selection import train_test_split\n",
    "X_train,X_test,y_train,y_test=train_test_split(X,y,test_size=0.2,random_state=0)"
   ]
  },
  {
   "cell_type": "code",
   "execution_count": 57,
   "metadata": {},
   "outputs": [],
   "source": [
    "import time\n",
    "start_time = time.time()\n",
    "\n",
    "# Create Decision Tree classifer object\n",
    "clf = RandomForestClassifier(n_estimators=100)\n",
    "\n",
    "# Train Decision Tree Classifer\n",
    "clf = clf.fit(X_train,y_train)\n",
    "\n",
    "#Predict the response for test dataset\n",
    "y_pred = clf.predict(X_test)"
   ]
  },
  {
   "cell_type": "code",
   "execution_count": 58,
   "metadata": {},
   "outputs": [
    {
     "name": "stdout",
     "output_type": "stream",
     "text": [
      "Execution Time: 5.110910177230835 seconds ---\n",
      "Accuracy: 0.7892635314995563\n",
      "Precision: 0.6252129471890971\n",
      "Recall: 0.33454876937101186\n"
     ]
    }
   ],
   "source": [
    "print(\"Execution Time: %s seconds ---\" % (time.time() - start_time))\n",
    "\n",
    "# import the metrics class\n",
    "from sklearn import metrics\n",
    "print(\"Accuracy:\",metrics.accuracy_score(y_test, y_pred))\n",
    "print(\"Precision:\",metrics.precision_score(y_test, y_pred))\n",
    "print(\"Recall:\",metrics.recall_score(y_test, y_pred))"
   ]
  },
  {
   "cell_type": "markdown",
   "metadata": {},
   "source": [
    "## Considering more number of trees in Random Forest"
   ]
  },
  {
   "cell_type": "code",
   "execution_count": 59,
   "metadata": {},
   "outputs": [],
   "source": [
    "import time\n",
    "start_time = time.time()\n",
    "\n",
    "# Create Decision Tree classifer object\n",
    "clf = RandomForestClassifier(n_estimators=500)\n",
    "\n",
    "# Train Decision Tree Classifer\n",
    "clf = clf.fit(X_train,y_train)\n",
    "\n",
    "#Predict the response for test dataset\n",
    "y_pred = clf.predict(X_test)"
   ]
  },
  {
   "cell_type": "code",
   "execution_count": 60,
   "metadata": {},
   "outputs": [
    {
     "name": "stdout",
     "output_type": "stream",
     "text": [
      "Execution Time: 25.667053937911987 seconds ---\n",
      "Accuracy: 0.7908163265306123\n",
      "Precision: 0.6262295081967213\n",
      "Recall: 0.3482224247948952\n"
     ]
    }
   ],
   "source": [
    "print(\"Execution Time: %s seconds ---\" % (time.time() - start_time))\n",
    "\n",
    "# import the metrics class\n",
    "from sklearn import metrics\n",
    "print(\"Accuracy:\",metrics.accuracy_score(y_test, y_pred))\n",
    "print(\"Precision:\",metrics.precision_score(y_test, y_pred))\n",
    "print(\"Recall:\",metrics.recall_score(y_test, y_pred))"
   ]
  },
  {
   "cell_type": "markdown",
   "metadata": {},
   "source": [
    "# Part 5 : Gradient Boost"
   ]
  },
  {
   "cell_type": "markdown",
   "metadata": {},
   "source": [
    "## Training a Gradient Boost model "
   ]
  },
  {
   "cell_type": "code",
   "execution_count": 193,
   "metadata": {},
   "outputs": [],
   "source": [
    "from sklearn.ensemble import GradientBoostingClassifier\n",
    "\n",
    "\n",
    "\n",
    "y=dataframe_enc['Sale Price Compared To Value']\n",
    "X=dataframe_enc.drop(['Sale Price Compared To Value'],axis=1) \n",
    "\n",
    "\n",
    "# split X and y into training and testing sets\n",
    "from sklearn.model_selection import train_test_split\n",
    "X_train,X_test,y_train,y_test=train_test_split(X,y,test_size=0.2,random_state=0)\n",
    "\n",
    "\n",
    "import time\n",
    "start_time = time.time()\n",
    "\n",
    "# fit the model on the whole dataset\n",
    "model = GradientBoostingClassifier(loss='deviance', learning_rate=0.1, n_estimators=200, subsample=1.0, criterion='friedman_mse', min_samples_split=2, min_samples_leaf=1)\n",
    "\n",
    "model.fit(X_train, y_train)\n",
    "\n",
    "#Predict the response for test dataset\n",
    "y_pred = model.predict(X_test)"
   ]
  },
  {
   "cell_type": "code",
   "execution_count": 194,
   "metadata": {},
   "outputs": [],
   "source": [
    "# from sklearn.ensemble import GradientBoostingRegressor\n",
    "# from sklearn.metrics import mean_squared_error\n",
    "# from sklearn.metrics import mean_absolute_error\n",
    "\n",
    "# mean_absolute_error(y_test, y_pred)"
   ]
  },
  {
   "cell_type": "code",
   "execution_count": 195,
   "metadata": {},
   "outputs": [
    {
     "name": "stdout",
     "output_type": "stream",
     "text": [
      "Execution Time: 10.0315523147583 seconds ---\n",
      "Accuracy: 0.792812777284827\n",
      "Precision: 0.6745182012847966\n",
      "Recall: 0.2871467639015497\n"
     ]
    }
   ],
   "source": [
    "print(\"Execution Time: %s seconds ---\" % (time.time() - start_time))\n",
    "\n",
    "# import the metrics class\n",
    "from sklearn import metrics\n",
    "print(\"Accuracy:\",metrics.accuracy_score(y_test, y_pred))\n",
    "print(\"Precision:\",metrics.precision_score(y_test, y_pred))\n",
    "print(\"Recall:\",metrics.recall_score(y_test, y_pred))"
   ]
  },
  {
   "cell_type": "code",
   "execution_count": 196,
   "metadata": {},
   "outputs": [],
   "source": [
    "imp_features = []\n",
    "imp_features = list(model.feature_importances_)"
   ]
  },
  {
   "cell_type": "code",
   "execution_count": 197,
   "metadata": {},
   "outputs": [
    {
     "data": {
      "text/plain": [
       "[0.047564207296925606,\n",
       " 0.004613254795673712,\n",
       " 0.016475641877795447,\n",
       " 0.016134891101437218,\n",
       " 0.4740754864636202,\n",
       " 0.018678801659136053,\n",
       " 0.004713713580091789,\n",
       " 0.004300899569606014,\n",
       " 0.029891266419885015,\n",
       " 0.0018744353722274945,\n",
       " 0.014979085691932216,\n",
       " 0.09389812501872262,\n",
       " 0.050773153732953394,\n",
       " 0.03552811988200026,\n",
       " 0.00416812680788365,\n",
       " 0.16052970617541182,\n",
       " 0.003077840486274023,\n",
       " 0.006116029704793145,\n",
       " 0.0053990957413451056,\n",
       " 0.006043594390109849,\n",
       " 0.0011645242321753208]"
      ]
     },
     "execution_count": 197,
     "metadata": {},
     "output_type": "execute_result"
    }
   ],
   "source": [
    "imp_features"
   ]
  },
  {
   "cell_type": "code",
   "execution_count": 198,
   "metadata": {},
   "outputs": [],
   "source": [
    "for each in imp_features:\n",
    "    each = each * 1000000"
   ]
  },
  {
   "cell_type": "code",
   "execution_count": 199,
   "metadata": {},
   "outputs": [
    {
     "data": {
      "text/plain": [
       "[0.047564207296925606,\n",
       " 0.004613254795673712,\n",
       " 0.016475641877795447,\n",
       " 0.016134891101437218,\n",
       " 0.4740754864636202,\n",
       " 0.018678801659136053,\n",
       " 0.004713713580091789,\n",
       " 0.004300899569606014,\n",
       " 0.029891266419885015,\n",
       " 0.0018744353722274945,\n",
       " 0.014979085691932216,\n",
       " 0.09389812501872262,\n",
       " 0.050773153732953394,\n",
       " 0.03552811988200026,\n",
       " 0.00416812680788365,\n",
       " 0.16052970617541182,\n",
       " 0.003077840486274023,\n",
       " 0.006116029704793145,\n",
       " 0.0053990957413451056,\n",
       " 0.006043594390109849,\n",
       " 0.0011645242321753208]"
      ]
     },
     "execution_count": 199,
     "metadata": {},
     "output_type": "execute_result"
    }
   ],
   "source": [
    "imp_features"
   ]
  },
  {
   "cell_type": "code",
   "execution_count": 200,
   "metadata": {},
   "outputs": [],
   "source": [
    "to_select_column = []"
   ]
  },
  {
   "cell_type": "code",
   "execution_count": 201,
   "metadata": {},
   "outputs": [],
   "source": [
    "for each in imp_features:\n",
    "    if each > 0.002:\n",
    "        to_select_column.append(True)\n",
    "    else:\n",
    "        to_select_column.append(False)"
   ]
  },
  {
   "cell_type": "code",
   "execution_count": 202,
   "metadata": {},
   "outputs": [
    {
     "data": {
      "text/plain": [
       "21"
      ]
     },
     "execution_count": 202,
     "metadata": {},
     "output_type": "execute_result"
    }
   ],
   "source": [
    "len(to_select_column)"
   ]
  },
  {
   "cell_type": "code",
   "execution_count": 203,
   "metadata": {},
   "outputs": [
    {
     "data": {
      "text/plain": [
       "[True,\n",
       " True,\n",
       " True,\n",
       " True,\n",
       " True,\n",
       " True,\n",
       " True,\n",
       " True,\n",
       " True,\n",
       " False,\n",
       " True,\n",
       " True,\n",
       " True,\n",
       " True,\n",
       " True,\n",
       " True,\n",
       " True,\n",
       " True,\n",
       " True,\n",
       " True,\n",
       " False]"
      ]
     },
     "execution_count": 203,
     "metadata": {},
     "output_type": "execute_result"
    }
   ],
   "source": [
    "to_select_column"
   ]
  },
  {
   "cell_type": "code",
   "execution_count": 204,
   "metadata": {},
   "outputs": [],
   "source": [
    "all_columns = list(dataframe_enc.columns)\n",
    "all_columns.remove('Sale Price Compared To Value')\n",
    "selected_features = []\n",
    "for i in range(0,len(all_columns)):\n",
    "    if(to_select_column[i] == True):\n",
    "        selected_features.append(all_columns[i])"
   ]
  },
  {
   "cell_type": "code",
   "execution_count": 205,
   "metadata": {},
   "outputs": [
    {
     "data": {
      "text/plain": [
       "['Parcel ID',\n",
       " 'Land Use',\n",
       " 'Property Address',\n",
       " 'Sale Date',\n",
       " 'Legal Reference',\n",
       " 'Sold As Vacant',\n",
       " 'Multiple Parcels Involved in Sale',\n",
       " 'City',\n",
       " 'Acreage',\n",
       " 'Neighborhood',\n",
       " 'Land Value',\n",
       " 'Building Value',\n",
       " 'Finished Area',\n",
       " 'Foundation Type',\n",
       " 'Year Built',\n",
       " 'Exterior Wall',\n",
       " 'Grade',\n",
       " 'Bedrooms',\n",
       " 'Full Bath']"
      ]
     },
     "execution_count": 205,
     "metadata": {},
     "output_type": "execute_result"
    }
   ],
   "source": [
    "gradient_boost_selected_features = selected_features\n",
    "gradient_boost_selected_features"
   ]
  },
  {
   "cell_type": "markdown",
   "metadata": {},
   "source": [
    "## Considering only selected features"
   ]
  },
  {
   "cell_type": "code",
   "execution_count": 206,
   "metadata": {},
   "outputs": [],
   "source": [
    "dataframe_boost = dataframe_enc[selected_features]\n",
    "X=dataframe_boost.values\n",
    "y=dataframe_enc['Sale Price Compared To Value']\n",
    "\n",
    "\n",
    "# split X and y into training and testing sets\n",
    "from sklearn.model_selection import train_test_split\n",
    "X_train,X_test,y_train,y_test=train_test_split(X,y,test_size=0.2,random_state=0)"
   ]
  },
  {
   "cell_type": "code",
   "execution_count": 207,
   "metadata": {},
   "outputs": [],
   "source": [
    "import time\n",
    "start_time = time.time()\n",
    "\n",
    "# fit the model on the whole dataset\n",
    "model = GradientBoostingClassifier(loss='deviance', learning_rate=0.1, n_estimators=200, subsample=1.0, criterion='friedman_mse', min_samples_split=2, min_samples_leaf=1)\n",
    "\n",
    "model.fit(X_train, y_train)\n",
    "\n",
    "#Predict the response for test dataset\n",
    "y_pred = model.predict(X_test)"
   ]
  },
  {
   "cell_type": "code",
   "execution_count": 208,
   "metadata": {},
   "outputs": [
    {
     "name": "stdout",
     "output_type": "stream",
     "text": [
      "Execution Time: 10.270155191421509 seconds ---\n",
      "Accuracy: 0.7917036379769299\n",
      "Precision: 0.6680851063829787\n",
      "Recall: 0.2862351868732908\n"
     ]
    }
   ],
   "source": [
    "print(\"Execution Time: %s seconds ---\" % (time.time() - start_time))\n",
    "\n",
    "# import the metrics class\n",
    "from sklearn import metrics\n",
    "print(\"Accuracy:\",metrics.accuracy_score(y_test, y_pred))\n",
    "print(\"Precision:\",metrics.precision_score(y_test, y_pred))\n",
    "print(\"Recall:\",metrics.recall_score(y_test, y_pred))"
   ]
  },
  {
   "cell_type": "markdown",
   "metadata": {},
   "source": [
    "## Using optimal number of trees with selected features"
   ]
  },
  {
   "cell_type": "code",
   "execution_count": 209,
   "metadata": {},
   "outputs": [],
   "source": [
    "import time\n",
    "start_time = time.time()\n",
    "\n",
    "# fit the model on the whole dataset\n",
    "model = GradientBoostingClassifier(loss='deviance', learning_rate=0.1, n_estimators=65, subsample=1.0, criterion='friedman_mse', min_samples_split=2, min_samples_leaf=1)\n",
    "\n",
    "model.fit(X_train, y_train)\n",
    "\n",
    "#Predict the response for test dataset\n",
    "y_pred = model.predict(X_test)"
   ]
  },
  {
   "cell_type": "code",
   "execution_count": 210,
   "metadata": {},
   "outputs": [
    {
     "name": "stdout",
     "output_type": "stream",
     "text": [
      "Execution Time: 3.34671688079834 seconds ---\n",
      "Accuracy: 0.7932564330079858\n",
      "Precision: 0.7017114914425427\n",
      "Recall: 0.26162260711030083\n"
     ]
    }
   ],
   "source": [
    "print(\"Execution Time: %s seconds ---\" % (time.time() - start_time))\n",
    "\n",
    "# import the metrics class\n",
    "from sklearn import metrics\n",
    "print(\"Accuracy:\",metrics.accuracy_score(y_test, y_pred))\n",
    "print(\"Precision:\",metrics.precision_score(y_test, y_pred))\n",
    "print(\"Recall:\",metrics.recall_score(y_test, y_pred))"
   ]
  },
  {
   "cell_type": "code",
   "execution_count": 211,
   "metadata": {},
   "outputs": [
    {
     "data": {
      "text/plain": [
       "['Parcel ID',\n",
       " 'Property Address',\n",
       " 'Sale Date',\n",
       " 'Legal Reference',\n",
       " 'City',\n",
       " 'Neighborhood',\n",
       " 'Building Value',\n",
       " 'Finished Area',\n",
       " 'Foundation Type',\n",
       " 'Year Built']"
      ]
     },
     "execution_count": 211,
     "metadata": {},
     "output_type": "execute_result"
    }
   ],
   "source": [
    "logistic_regression_selected_features"
   ]
  },
  {
   "cell_type": "code",
   "execution_count": 212,
   "metadata": {},
   "outputs": [
    {
     "data": {
      "text/plain": [
       "['Parcel ID',\n",
       " 'Property Address',\n",
       " 'Sale Date',\n",
       " 'Legal Reference',\n",
       " 'Acreage',\n",
       " 'Neighborhood',\n",
       " 'Land Value',\n",
       " 'Building Value',\n",
       " 'Finished Area',\n",
       " 'Year Built']"
      ]
     },
     "execution_count": 212,
     "metadata": {},
     "output_type": "execute_result"
    }
   ],
   "source": [
    "decision_tree_selected_features"
   ]
  },
  {
   "cell_type": "code",
   "execution_count": 213,
   "metadata": {},
   "outputs": [
    {
     "data": {
      "text/plain": [
       "['Parcel ID',\n",
       " 'Property Address',\n",
       " 'Sale Date',\n",
       " 'Legal Reference',\n",
       " 'Acreage',\n",
       " 'Neighborhood',\n",
       " 'Land Value',\n",
       " 'Building Value',\n",
       " 'Finished Area',\n",
       " 'Year Built']"
      ]
     },
     "execution_count": 213,
     "metadata": {},
     "output_type": "execute_result"
    }
   ],
   "source": [
    "random_forest_selected_features"
   ]
  },
  {
   "cell_type": "code",
   "execution_count": null,
   "metadata": {},
   "outputs": [],
   "source": []
  },
  {
   "cell_type": "code",
   "execution_count": 214,
   "metadata": {},
   "outputs": [
    {
     "data": {
      "text/plain": [
       "['Parcel ID',\n",
       " 'Land Use',\n",
       " 'Property Address',\n",
       " 'Sale Date',\n",
       " 'Legal Reference',\n",
       " 'Sold As Vacant',\n",
       " 'Multiple Parcels Involved in Sale',\n",
       " 'City',\n",
       " 'Acreage',\n",
       " 'Neighborhood',\n",
       " 'Land Value',\n",
       " 'Building Value',\n",
       " 'Finished Area',\n",
       " 'Foundation Type',\n",
       " 'Year Built',\n",
       " 'Exterior Wall',\n",
       " 'Grade',\n",
       " 'Bedrooms',\n",
       " 'Full Bath']"
      ]
     },
     "execution_count": 214,
     "metadata": {},
     "output_type": "execute_result"
    }
   ],
   "source": [
    "gradient_boost_selected_features"
   ]
  },
  {
   "cell_type": "code",
   "execution_count": null,
   "metadata": {},
   "outputs": [],
   "source": []
  },
  {
   "cell_type": "code",
   "execution_count": null,
   "metadata": {},
   "outputs": [],
   "source": []
  }
 ],
 "metadata": {
  "kernelspec": {
   "display_name": "conda_amazonei_mxnet_p36",
   "language": "python",
   "name": "conda_amazonei_mxnet_p36"
  },
  "language_info": {
   "codemirror_mode": {
    "name": "ipython",
    "version": 3
   },
   "file_extension": ".py",
   "mimetype": "text/x-python",
   "name": "python",
   "nbconvert_exporter": "python",
   "pygments_lexer": "ipython3",
   "version": "3.6.13"
  }
 },
 "nbformat": 4,
 "nbformat_minor": 4
}
